{
 "cells": [
  {
   "cell_type": "code",
   "execution_count": 1,
   "id": "bcfabae4",
   "metadata": {},
   "outputs": [],
   "source": [
    "import pandas as pd"
   ]
  },
  {
   "cell_type": "code",
   "execution_count": 5,
   "id": "e61fdf42",
   "metadata": {},
   "outputs": [
    {
     "name": "stdout",
     "output_type": "stream",
     "text": [
      "https://www.pro-football-reference.com/years/2017/fantasy.htm\n",
      "https://www.pro-football-reference.com/years/2018/fantasy.htm\n",
      "https://www.pro-football-reference.com/years/2019/fantasy.htm\n",
      "https://www.pro-football-reference.com/years/2020/fantasy.htm\n",
      "https://www.pro-football-reference.com/years/2021/fantasy.htm\n"
     ]
    }
   ],
   "source": [
    "#scrape data\n",
    "str = \"https://www.pro-football-reference.com/years/{}/fantasy.htm\"\n",
    "years = [2017,2018,2019,2020,2021]\n",
    "\n",
    "for year in years:\n",
    "    url = str.format(year)\n",
    "    print(url)\n",
    "\n",
    "_url = \"https://www.pro-football-reference.com/years/2021/fantasy.htm\""
   ]
  },
  {
   "cell_type": "code",
   "execution_count": 41,
   "id": "7355e1d4",
   "metadata": {},
   "outputs": [
    {
     "data": {
      "text/html": [
       "<div>\n",
       "<style scoped>\n",
       "    .dataframe tbody tr th:only-of-type {\n",
       "        vertical-align: middle;\n",
       "    }\n",
       "\n",
       "    .dataframe tbody tr th {\n",
       "        vertical-align: top;\n",
       "    }\n",
       "\n",
       "    .dataframe thead th {\n",
       "        text-align: right;\n",
       "    }\n",
       "</style>\n",
       "<table border=\"1\" class=\"dataframe\">\n",
       "  <thead>\n",
       "    <tr style=\"text-align: right;\">\n",
       "      <th></th>\n",
       "      <th>Rk</th>\n",
       "      <th>Player</th>\n",
       "      <th>Tm</th>\n",
       "      <th>FantPos</th>\n",
       "      <th>Age</th>\n",
       "      <th>G</th>\n",
       "      <th>GS</th>\n",
       "      <th>Cmp</th>\n",
       "      <th>Att</th>\n",
       "      <th>Yds</th>\n",
       "      <th>...</th>\n",
       "      <th>TD.3</th>\n",
       "      <th>2PM</th>\n",
       "      <th>2PP</th>\n",
       "      <th>FantPt</th>\n",
       "      <th>PPR</th>\n",
       "      <th>DKPt</th>\n",
       "      <th>FDPt</th>\n",
       "      <th>VBD</th>\n",
       "      <th>PosRank</th>\n",
       "      <th>OvRank</th>\n",
       "    </tr>\n",
       "  </thead>\n",
       "  <tbody>\n",
       "    <tr>\n",
       "      <th>0</th>\n",
       "      <td>1</td>\n",
       "      <td>Jonathan Taylor*+</td>\n",
       "      <td>IND</td>\n",
       "      <td>RB</td>\n",
       "      <td>22</td>\n",
       "      <td>17</td>\n",
       "      <td>17</td>\n",
       "      <td>0</td>\n",
       "      <td>0</td>\n",
       "      <td>0</td>\n",
       "      <td>...</td>\n",
       "      <td>20</td>\n",
       "      <td>NaN</td>\n",
       "      <td>NaN</td>\n",
       "      <td>333</td>\n",
       "      <td>373.1</td>\n",
       "      <td>381.1</td>\n",
       "      <td>353.1</td>\n",
       "      <td>187</td>\n",
       "      <td>1</td>\n",
       "      <td>1</td>\n",
       "    </tr>\n",
       "    <tr>\n",
       "      <th>1</th>\n",
       "      <td>2</td>\n",
       "      <td>Cooper Kupp*+</td>\n",
       "      <td>LAR</td>\n",
       "      <td>WR</td>\n",
       "      <td>28</td>\n",
       "      <td>17</td>\n",
       "      <td>17</td>\n",
       "      <td>0</td>\n",
       "      <td>1</td>\n",
       "      <td>0</td>\n",
       "      <td>...</td>\n",
       "      <td>16</td>\n",
       "      <td>1</td>\n",
       "      <td>NaN</td>\n",
       "      <td>295</td>\n",
       "      <td>439.5</td>\n",
       "      <td>442.5</td>\n",
       "      <td>367.0</td>\n",
       "      <td>173</td>\n",
       "      <td>1</td>\n",
       "      <td>2</td>\n",
       "    </tr>\n",
       "    <tr>\n",
       "      <th>2</th>\n",
       "      <td>3</td>\n",
       "      <td>Deebo Samuel*+</td>\n",
       "      <td>SFO</td>\n",
       "      <td>WR</td>\n",
       "      <td>25</td>\n",
       "      <td>16</td>\n",
       "      <td>15</td>\n",
       "      <td>1</td>\n",
       "      <td>2</td>\n",
       "      <td>24</td>\n",
       "      <td>...</td>\n",
       "      <td>14</td>\n",
       "      <td>NaN</td>\n",
       "      <td>NaN</td>\n",
       "      <td>262</td>\n",
       "      <td>339.0</td>\n",
       "      <td>347.0</td>\n",
       "      <td>300.5</td>\n",
       "      <td>140</td>\n",
       "      <td>2</td>\n",
       "      <td>3</td>\n",
       "    </tr>\n",
       "    <tr>\n",
       "      <th>3</th>\n",
       "      <td>4</td>\n",
       "      <td>Josh Allen</td>\n",
       "      <td>BUF</td>\n",
       "      <td>QB</td>\n",
       "      <td>25</td>\n",
       "      <td>17</td>\n",
       "      <td>17</td>\n",
       "      <td>409</td>\n",
       "      <td>646</td>\n",
       "      <td>4407</td>\n",
       "      <td>...</td>\n",
       "      <td>6</td>\n",
       "      <td>2</td>\n",
       "      <td>1</td>\n",
       "      <td>403</td>\n",
       "      <td>402.6</td>\n",
       "      <td>426.6</td>\n",
       "      <td>417.6</td>\n",
       "      <td>134</td>\n",
       "      <td>1</td>\n",
       "      <td>4</td>\n",
       "    </tr>\n",
       "    <tr>\n",
       "      <th>4</th>\n",
       "      <td>5</td>\n",
       "      <td>Austin Ekeler</td>\n",
       "      <td>LAC</td>\n",
       "      <td>RB</td>\n",
       "      <td>26</td>\n",
       "      <td>16</td>\n",
       "      <td>16</td>\n",
       "      <td>0</td>\n",
       "      <td>0</td>\n",
       "      <td>0</td>\n",
       "      <td>...</td>\n",
       "      <td>20</td>\n",
       "      <td>2</td>\n",
       "      <td>NaN</td>\n",
       "      <td>274</td>\n",
       "      <td>343.8</td>\n",
       "      <td>352.8</td>\n",
       "      <td>308.8</td>\n",
       "      <td>128</td>\n",
       "      <td>2</td>\n",
       "      <td>5</td>\n",
       "    </tr>\n",
       "  </tbody>\n",
       "</table>\n",
       "<p>5 rows × 33 columns</p>\n",
       "</div>"
      ],
      "text/plain": [
       "  Rk             Player   Tm FantPos Age   G  GS  Cmp  Att   Yds  ... TD.3  \\\n",
       "0  1  Jonathan Taylor*+  IND      RB  22  17  17    0    0     0  ...   20   \n",
       "1  2      Cooper Kupp*+  LAR      WR  28  17  17    0    1     0  ...   16   \n",
       "2  3     Deebo Samuel*+  SFO      WR  25  16  15    1    2    24  ...   14   \n",
       "3  4         Josh Allen  BUF      QB  25  17  17  409  646  4407  ...    6   \n",
       "4  5      Austin Ekeler  LAC      RB  26  16  16    0    0     0  ...   20   \n",
       "\n",
       "   2PM  2PP FantPt    PPR   DKPt   FDPt  VBD PosRank OvRank  \n",
       "0  NaN  NaN    333  373.1  381.1  353.1  187       1      1  \n",
       "1    1  NaN    295  439.5  442.5  367.0  173       1      2  \n",
       "2  NaN  NaN    262  339.0  347.0  300.5  140       2      3  \n",
       "3    2    1    403  402.6  426.6  417.6  134       1      4  \n",
       "4    2  NaN    274  343.8  352.8  308.8  128       2      5  \n",
       "\n",
       "[5 rows x 33 columns]"
      ]
     },
     "execution_count": 41,
     "metadata": {},
     "output_type": "execute_result"
    }
   ],
   "source": [
    "data = pd.read_html(_url, header = 1)\n",
    "df = data[0]\n",
    "df.head()"
   ]
  },
  {
   "cell_type": "code",
   "execution_count": 42,
   "id": "3cf712a6",
   "metadata": {},
   "outputs": [
    {
     "data": {
      "text/plain": [
       "(692, 33)"
      ]
     },
     "execution_count": 42,
     "metadata": {},
     "output_type": "execute_result"
    }
   ],
   "source": [
    "df.shape"
   ]
  },
  {
   "cell_type": "code",
   "execution_count": 39,
   "id": "82f2df79",
   "metadata": {},
   "outputs": [
    {
     "data": {
      "text/plain": [
       "(670, 33)"
      ]
     },
     "execution_count": 39,
     "metadata": {},
     "output_type": "execute_result"
    }
   ],
   "source": [
    "df = df.drop(df[df.Age == 'Age'].index)\n",
    "df.shape"
   ]
  },
  {
   "cell_type": "code",
   "execution_count": null,
   "id": "0cd59386",
   "metadata": {},
   "outputs": [],
   "source": []
  }
 ],
 "metadata": {
  "kernelspec": {
   "display_name": "Python 3 (ipykernel)",
   "language": "python",
   "name": "python3"
  },
  "language_info": {
   "codemirror_mode": {
    "name": "ipython",
    "version": 3
   },
   "file_extension": ".py",
   "mimetype": "text/x-python",
   "name": "python",
   "nbconvert_exporter": "python",
   "pygments_lexer": "ipython3",
   "version": "3.9.12"
  }
 },
 "nbformat": 4,
 "nbformat_minor": 5
}
